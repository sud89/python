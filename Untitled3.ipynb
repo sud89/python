{
  "nbformat": 4,
  "nbformat_minor": 0,
  "metadata": {
    "colab": {
      "name": "Untitled3.ipynb",
      "provenance": [],
      "authorship_tag": "ABX9TyOBug3ko+zYH8hqNPQspnlL",
      "include_colab_link": true
    },
    "kernelspec": {
      "name": "python3",
      "display_name": "Python 3"
    },
    "language_info": {
      "name": "python"
    }
  },
  "cells": [
    {
      "cell_type": "markdown",
      "metadata": {
        "id": "view-in-github",
        "colab_type": "text"
      },
      "source": [
        "<a href=\"https://colab.research.google.com/github/sud89/python/blob/master/Untitled3.ipynb\" target=\"_parent\"><img src=\"https://colab.research.google.com/assets/colab-badge.svg\" alt=\"Open In Colab\"/></a>"
      ]
    },
    {
      "cell_type": "code",
      "metadata": {
        "id": "VN3o8GHrOf-q",
        "colab": {
          "base_uri": "https://localhost:8080/",
          "height": 130
        },
        "outputId": "0aecad69-76da-4b62-9240-42e8dac10e88"
      },
      "source": [
        "def add (a,b):\n",
        "  c = a+b \n",
        "  print (f'the addition of {a} and {b} is {c}' )\n",
        "\n",
        "def sub (m,n):\n",
        "  0= m-n\n",
        "  print (f' the substraction of{m} and {n} is {0}' )\n",
        "\n"
      ],
      "execution_count": 1,
      "outputs": [
        {
          "output_type": "error",
          "ename": "SyntaxError",
          "evalue": "ignored",
          "traceback": [
            "\u001b[0;36m  File \u001b[0;32m\"<ipython-input-1-7a1b0e15649d>\"\u001b[0;36m, line \u001b[0;32m6\u001b[0m\n\u001b[0;31m    0= m-n\u001b[0m\n\u001b[0m    ^\u001b[0m\n\u001b[0;31mSyntaxError\u001b[0m\u001b[0;31m:\u001b[0m can't assign to literal\n"
          ]
        }
      ]
    },
    {
      "cell_type": "code",
      "source": [
        "def sub (m,n):\n",
        "  o = m-n\n",
        "  print (f' the substraction of {m} and {n} is {o}' )\n",
        "\n"
      ],
      "metadata": {
        "id": "pB27ULCI7GyI"
      },
      "execution_count": 7,
      "outputs": []
    },
    {
      "cell_type": "code",
      "source": [
        "sub (20,10)"
      ],
      "metadata": {
        "colab": {
          "base_uri": "https://localhost:8080/"
        },
        "id": "j2LV2o987Y7r",
        "outputId": "08bea51f-85ef-4dc4-cc6f-1286bd03e9a3"
      },
      "execution_count": 8,
      "outputs": [
        {
          "output_type": "stream",
          "name": "stdout",
          "text": [
            " the substraction of 20 and 10 is 10\n"
          ]
        }
      ]
    },
    {
      "cell_type": "code",
      "metadata": {
        "colab": {
          "base_uri": "https://localhost:8080/"
        },
        "id": "ocOwYeDyQz-A",
        "outputId": "c4b3c3ee-f96d-4d73-9ea4-b2a804fd01e1"
      },
      "source": [
        "add (15.5,25)"
      ],
      "execution_count": null,
      "outputs": [
        {
          "output_type": "stream",
          "name": "stdout",
          "text": [
            "the addition of 15.5 and 25 is 40.5\n"
          ]
        }
      ]
    },
    {
      "cell_type": "code",
      "metadata": {
        "id": "eNpUUUYGR2KQ"
      },
      "source": [
        "def multiply (c,d):\n",
        "  e = c*d\n",
        "  print (f'the multiplication of {c} and {d} is {e}')\n",
        "  "
      ],
      "execution_count": null,
      "outputs": []
    },
    {
      "cell_type": "code",
      "metadata": {
        "colab": {
          "base_uri": "https://localhost:8080/"
        },
        "id": "V8ItGZalSQVE",
        "outputId": "c0b94406-6d1a-49bc-f8d7-813ec4c8ef4a"
      },
      "source": [
        "multiply (5,25)\n"
      ],
      "execution_count": null,
      "outputs": [
        {
          "output_type": "stream",
          "name": "stdout",
          "text": [
            "the multiplication of 5 and 25 is 125\n"
          ]
        }
      ]
    },
    {
      "cell_type": "code",
      "metadata": {
        "id": "_Axu3N8WSqST"
      },
      "source": [
        "jode = add \n"
      ],
      "execution_count": null,
      "outputs": []
    },
    {
      "cell_type": "code",
      "metadata": {
        "colab": {
          "base_uri": "https://localhost:8080/"
        },
        "id": "5liMOXwCSvOo",
        "outputId": "58b2d6d1-c84f-448c-cda3-453bbfab3bb9"
      },
      "source": [
        "jode (2,3)\n"
      ],
      "execution_count": null,
      "outputs": [
        {
          "output_type": "error",
          "ename": "NameError",
          "evalue": "ignored",
          "traceback": [
            "\u001b[0;31m---------------------------------------------------------------------------\u001b[0m",
            "\u001b[0;31mNameError\u001b[0m                                 Traceback (most recent call last)",
            "\u001b[0;32m<ipython-input-1-096cb5bb9499>\u001b[0m in \u001b[0;36m<module>\u001b[0;34m()\u001b[0m\n\u001b[0;32m----> 1\u001b[0;31m \u001b[0mjode\u001b[0m \u001b[0;34m(\u001b[0m\u001b[0;36m2\u001b[0m\u001b[0;34m,\u001b[0m\u001b[0;36m3\u001b[0m\u001b[0;34m)\u001b[0m\u001b[0;34m\u001b[0m\u001b[0;34m\u001b[0m\u001b[0m\n\u001b[0m",
            "\u001b[0;31mNameError\u001b[0m: name 'jode' is not defined"
          ]
        }
      ]
    }
  ]
}